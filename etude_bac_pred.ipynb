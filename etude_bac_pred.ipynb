{
 "cells": [
  {
   "cell_type": "code",
   "execution_count": 72,
   "id": "f0e3a17c",
   "metadata": {},
   "outputs": [],
   "source": [
    "import pandas as pd"
   ]
  },
  {
   "cell_type": "code",
   "execution_count": null,
   "id": "98147d7a",
   "metadata": {},
   "outputs": [
    {
     "data": {
      "text/html": [
       "<div>\n",
       "<style scoped>\n",
       "    .dataframe tbody tr th:only-of-type {\n",
       "        vertical-align: middle;\n",
       "    }\n",
       "\n",
       "    .dataframe tbody tr th {\n",
       "        vertical-align: top;\n",
       "    }\n",
       "\n",
       "    .dataframe thead th {\n",
       "        text-align: right;\n",
       "    }\n",
       "</style>\n",
       "<table border=\"1\" class=\"dataframe\">\n",
       "  <thead>\n",
       "    <tr style=\"text-align: right;\">\n",
       "      <th></th>\n",
       "      <th>annee</th>\n",
       "      <th>Nombre d'inscrit</th>\n",
       "      <th>Nombre d'absent</th>\n",
       "      <th>Nombre d'exclue</th>\n",
       "      <th>Moyenne des moyennes finales</th>\n",
       "      <th>Nombre d'admis</th>\n",
       "      <th>Nombre d'admis 1er tour</th>\n",
       "      <th>Nombre d'admis 2e tour</th>\n",
       "      <th>Nombre mention PASS</th>\n",
       "      <th>Nombre mention ABIEN</th>\n",
       "      <th>Nombre mention BIEN</th>\n",
       "      <th>Nombre mention TBIEN</th>\n",
       "    </tr>\n",
       "  </thead>\n",
       "  <tbody>\n",
       "    <tr>\n",
       "      <th>14</th>\n",
       "      <td>2020</td>\n",
       "      <td>155979</td>\n",
       "      <td>5995</td>\n",
       "      <td>26</td>\n",
       "      <td>8.377566</td>\n",
       "      <td>72449</td>\n",
       "      <td>34266</td>\n",
       "      <td>38183</td>\n",
       "      <td>65679</td>\n",
       "      <td>5800</td>\n",
       "      <td>877</td>\n",
       "      <td>94</td>\n",
       "    </tr>\n",
       "    <tr>\n",
       "      <th>15</th>\n",
       "      <td>2021</td>\n",
       "      <td>157947</td>\n",
       "      <td>4831</td>\n",
       "      <td>130</td>\n",
       "      <td>8.217776</td>\n",
       "      <td>68742</td>\n",
       "      <td>29840</td>\n",
       "      <td>38902</td>\n",
       "      <td>62566</td>\n",
       "      <td>5260</td>\n",
       "      <td>826</td>\n",
       "      <td>95</td>\n",
       "    </tr>\n",
       "    <tr>\n",
       "      <th>16</th>\n",
       "      <td>2022</td>\n",
       "      <td>145665</td>\n",
       "      <td>4995</td>\n",
       "      <td>58</td>\n",
       "      <td>8.612485</td>\n",
       "      <td>73382</td>\n",
       "      <td>34562</td>\n",
       "      <td>38820</td>\n",
       "      <td>65539</td>\n",
       "      <td>6500</td>\n",
       "      <td>1198</td>\n",
       "      <td>155</td>\n",
       "    </tr>\n",
       "    <tr>\n",
       "      <th>17</th>\n",
       "      <td>2023</td>\n",
       "      <td>155590</td>\n",
       "      <td>5269</td>\n",
       "      <td>103</td>\n",
       "      <td>8.573969</td>\n",
       "      <td>77469</td>\n",
       "      <td>34280</td>\n",
       "      <td>43189</td>\n",
       "      <td>69246</td>\n",
       "      <td>6666</td>\n",
       "      <td>1420</td>\n",
       "      <td>146</td>\n",
       "    </tr>\n",
       "    <tr>\n",
       "      <th>18</th>\n",
       "      <td>2024</td>\n",
       "      <td>159499</td>\n",
       "      <td>4376</td>\n",
       "      <td>247</td>\n",
       "      <td>8.595971</td>\n",
       "      <td>78246</td>\n",
       "      <td>37119</td>\n",
       "      <td>41127</td>\n",
       "      <td>68765</td>\n",
       "      <td>7726</td>\n",
       "      <td>1586</td>\n",
       "      <td>169</td>\n",
       "    </tr>\n",
       "  </tbody>\n",
       "</table>\n",
       "</div>"
      ],
      "text/plain": [
       "    annee  Nombre d'inscrit  Nombre d'absent  Nombre d'exclue  \\\n",
       "14   2020            155979             5995               26   \n",
       "15   2021            157947             4831              130   \n",
       "16   2022            145665             4995               58   \n",
       "17   2023            155590             5269              103   \n",
       "18   2024            159499             4376              247   \n",
       "\n",
       "    Moyenne des moyennes finales  Nombre d'admis  Nombre d'admis 1er tour  \\\n",
       "14                      8.377566           72449                    34266   \n",
       "15                      8.217776           68742                    29840   \n",
       "16                      8.612485           73382                    34562   \n",
       "17                      8.573969           77469                    34280   \n",
       "18                      8.595971           78246                    37119   \n",
       "\n",
       "    Nombre d'admis 2e tour  Nombre mention PASS  Nombre mention ABIEN  \\\n",
       "14                   38183                65679                  5800   \n",
       "15                   38902                62566                  5260   \n",
       "16                   38820                65539                  6500   \n",
       "17                   43189                69246                  6666   \n",
       "18                   41127                68765                  7726   \n",
       "\n",
       "    Nombre mention BIEN  Nombre mention TBIEN  \n",
       "14                  877                    94  \n",
       "15                  826                    95  \n",
       "16                 1198                   155  \n",
       "17                 1420                   146  \n",
       "18                 1586                   169  "
      ]
     },
     "execution_count": 73,
     "metadata": {},
     "output_type": "execute_result"
    }
   ],
   "source": [
    "data = pd.read_csv(\"recap.csv\")  \n",
    "data.tail()"
   ]
  },
  {
   "cell_type": "code",
   "execution_count": 74,
   "id": "6ab97516",
   "metadata": {},
   "outputs": [
    {
     "data": {
      "text/plain": [
       "Index(['annee', 'Nombre d'inscrit', 'Nombre d'absent', 'Nombre d'exclue',\n",
       "       'Moyenne des moyennes finales', 'Nombre d'admis',\n",
       "       'Nombre d'admis 1er tour', 'Nombre d'admis 2e tour',\n",
       "       'Nombre mention PASS', 'Nombre mention ABIEN', 'Nombre mention BIEN',\n",
       "       'Nombre mention TBIEN'],\n",
       "      dtype='object')"
      ]
     },
     "execution_count": 74,
     "metadata": {},
     "output_type": "execute_result"
    }
   ],
   "source": [
    "data.columns"
   ]
  },
  {
   "cell_type": "code",
   "execution_count": 75,
   "id": "800657da",
   "metadata": {},
   "outputs": [
    {
     "data": {
      "text/plain": [
       "(19, 12)"
      ]
     },
     "execution_count": 75,
     "metadata": {},
     "output_type": "execute_result"
    }
   ],
   "source": [
    "data.shape"
   ]
  },
  {
   "cell_type": "code",
   "execution_count": null,
   "id": "cbfc95c7",
   "metadata": {},
   "outputs": [
    {
     "data": {
      "text/plain": [
       "annee                           0\n",
       "Nombre d'inscrit                0\n",
       "Nombre d'absent                 0\n",
       "Nombre d'exclue                 0\n",
       "Moyenne des moyennes finales    0\n",
       "Nombre d'admis                  0\n",
       "Nombre d'admis 1er tour         0\n",
       "Nombre d'admis 2e tour          0\n",
       "Nombre mention PASS             0\n",
       "Nombre mention ABIEN            0\n",
       "Nombre mention BIEN             0\n",
       "Nombre mention TBIEN            0\n",
       "dtype: int64"
      ]
     },
     "execution_count": 76,
     "metadata": {},
     "output_type": "execute_result"
    }
   ],
   "source": [
    "#valeur manquante \n",
    "data.isnull().sum() "
   ]
  },
  {
   "cell_type": "code",
   "execution_count": 77,
   "id": "90b6721e",
   "metadata": {},
   "outputs": [
    {
     "name": "stdout",
     "output_type": "stream",
     "text": [
      "0     50.10\n",
      "1     47.79\n",
      "2     41.66\n",
      "3     34.74\n",
      "4     41.78\n",
      "5     37.97\n",
      "6     38.09\n",
      "7     38.00\n",
      "8     31.10\n",
      "9     30.89\n",
      "10    35.59\n",
      "11    30.84\n",
      "12    34.98\n",
      "13    37.37\n",
      "14    48.30\n",
      "15    44.90\n",
      "16    52.17\n",
      "17    51.54\n",
      "18    50.44\n",
      "Name: taux_reussite, dtype: float64\n"
     ]
    }
   ],
   "source": [
    "# Calcul correct du taux de réussite (en pourcentage)\n",
    "data['taux_reussite'] = (data['Nombre d\\'admis']) / (data['Nombre d\\'inscrit'] - data['Nombre d\\'absent']) * 100\n",
    "data['taux_reussite'] = data['taux_reussite'].round(2)\n",
    "\n",
    "print(data['taux_reussite'])"
   ]
  },
  {
   "cell_type": "code",
   "execution_count": 85,
   "id": "2877a905",
   "metadata": {},
   "outputs": [
    {
     "data": {
      "text/html": [
       "<div>\n",
       "<style scoped>\n",
       "    .dataframe tbody tr th:only-of-type {\n",
       "        vertical-align: middle;\n",
       "    }\n",
       "\n",
       "    .dataframe tbody tr th {\n",
       "        vertical-align: top;\n",
       "    }\n",
       "\n",
       "    .dataframe thead th {\n",
       "        text-align: right;\n",
       "    }\n",
       "</style>\n",
       "<table border=\"1\" class=\"dataframe\">\n",
       "  <thead>\n",
       "    <tr style=\"text-align: right;\">\n",
       "      <th></th>\n",
       "      <th>annee</th>\n",
       "      <th>Nombre d'inscrit</th>\n",
       "      <th>Nombre d'absent</th>\n",
       "      <th>Nombre d'exclue</th>\n",
       "      <th>Moyenne des moyennes finales</th>\n",
       "      <th>Nombre d'admis</th>\n",
       "      <th>Nombre d'admis 1er tour</th>\n",
       "      <th>Nombre d'admis 2e tour</th>\n",
       "      <th>Nombre mention PASS</th>\n",
       "      <th>Nombre mention ABIEN</th>\n",
       "      <th>Nombre mention BIEN</th>\n",
       "      <th>Nombre mention TBIEN</th>\n",
       "      <th>taux_reussite</th>\n",
       "    </tr>\n",
       "  </thead>\n",
       "  <tbody>\n",
       "    <tr>\n",
       "      <th>8</th>\n",
       "      <td>2014</td>\n",
       "      <td>127766</td>\n",
       "      <td>324</td>\n",
       "      <td>50</td>\n",
       "      <td>7.507007</td>\n",
       "      <td>39638</td>\n",
       "      <td>15348</td>\n",
       "      <td>24290</td>\n",
       "      <td>37236</td>\n",
       "      <td>2121</td>\n",
       "      <td>258</td>\n",
       "      <td>23</td>\n",
       "      <td>31.1</td>\n",
       "    </tr>\n",
       "  </tbody>\n",
       "</table>\n",
       "</div>"
      ],
      "text/plain": [
       "   annee  Nombre d'inscrit  Nombre d'absent  Nombre d'exclue  \\\n",
       "8   2014            127766              324               50   \n",
       "\n",
       "   Moyenne des moyennes finales  Nombre d'admis  Nombre d'admis 1er tour  \\\n",
       "8                      7.507007           39638                    15348   \n",
       "\n",
       "   Nombre d'admis 2e tour  Nombre mention PASS  Nombre mention ABIEN  \\\n",
       "8                   24290                37236                  2121   \n",
       "\n",
       "   Nombre mention BIEN  Nombre mention TBIEN  taux_reussite  \n",
       "8                  258                    23           31.1  "
      ]
     },
     "metadata": {},
     "output_type": "display_data"
    }
   ],
   "source": [
    "pd.set_option('display.max_columns', None)  \n",
    "data2014 = data[data['annee'] == 2014]\n",
    "display(data2014)"
   ]
  },
  {
   "cell_type": "code",
   "execution_count": 79,
   "id": "d465a60d",
   "metadata": {},
   "outputs": [
    {
     "data": {
      "image/png": "[encoded data removed]",
      "text/plain": [
       "<Figure size 800x500 with 1 Axes>"
      ]
     },
     "metadata": {},
     "output_type": "display_data"
    }
   ],
   "source": [
    "#courbe  pour voir si le nombre d 'admission est constant\n",
    "import matplotlib.pyplot as plt\n",
    "\n",
    "\n",
    "plt.figure(figsize=(8, 5))\n",
    "plt.plot(data['annee'], data[\"taux_reussite\"], marker='o', color='royalblue')\n",
    "plt.title(\"Évolution du nombre d'admis par année\")\n",
    "plt.xlabel(\"Année\")\n",
    "plt.ylabel(\"Nombre d'admis\")\n",
    "plt.grid(True, linestyle='--', alpha=0.7)\n",
    "for i, val in enumerate(data[\"taux_reussite\"]):\n",
    "    plt.text(data['annee'][i], val, str(val), ha='center', va='bottom', fontsize=9)\n",
    "plt.tight_layout()\n",
    "plt.show()\n"
   ]
  },
  {
   "cell_type": "code",
   "execution_count": 80,
   "id": "34fb5130",
   "metadata": {},
   "outputs": [
    {
     "data": {
      "text/plain": [
       "Index(['annee', 'Nombre d'inscrit', 'Nombre d'absent', 'Nombre d'exclue',\n",
       "       'Moyenne des moyennes finales', 'Nombre d'admis',\n",
       "       'Nombre d'admis 1er tour', 'Nombre d'admis 2e tour',\n",
       "       'Nombre mention PASS', 'Nombre mention ABIEN', 'Nombre mention BIEN',\n",
       "       'Nombre mention TBIEN', 'taux_reussite'],\n",
       "      dtype='object')"
      ]
     },
     "execution_count": 80,
     "metadata": {},
     "output_type": "execute_result"
    }
   ],
   "source": [
    "#prendre les donne de 2006 a 2013 \n",
    "data_2006_2013 = data[(data['annee'] >= 2006) & (data['annee'] <= 2013)]\n",
    "data_2006_2013.columns"
   ]
  },
  {
   "cell_type": "markdown",
   "id": "1aeca04f",
   "metadata": {},
   "source": [
    "modele Arima"
   ]
  },
  {
   "cell_type": "code",
   "execution_count": 81,
   "id": "e216b02e",
   "metadata": {},
   "outputs": [
    {
     "name": "stdout",
     "output_type": "stream",
     "text": [
      "ARIMA(0,0,0) → Prédiction 2014 : 69918 | AIC : 187.82\n",
      "ARIMA(0,0,1) → Prédiction 2014 : 86703 | AIC : 184.85\n",
      "ARIMA(0,0,2) → Prédiction 2014 : 94300 | AIC : 187.07\n",
      "ARIMA(0,1,0) → Prédiction 2014 : 109462 | AIC : 151.97\n",
      "ARIMA(0,1,1) → Prédiction 2014 : 110923 | AIC : 153.17\n",
      "ARIMA(0,1,2) → Prédiction 2014 : 112687 | AIC : 153.39\n",
      "ARIMA(1,0,0) → Prédiction 2014 : 106918 | AIC : 179.37\n",
      "ARIMA(1,0,1) → Prédiction 2014 : 104873 | AIC : 177.78\n",
      "ARIMA(1,0,2) → Prédiction 2014 : 103183 | AIC : 188.56\n"
     ]
    },
    {
     "name": "stderr",
     "output_type": "stream",
     "text": [
      "c:\\Users\\HP\\AppData\\Local\\Programs\\Python\\Python313\\Lib\\site-packages\\statsmodels\\tsa\\statespace\\sarimax.py:978: UserWarning: Non-invertible starting MA parameters found. Using zeros as starting parameters.\n",
      "  warn('Non-invertible starting MA parameters found.'\n",
      "c:\\Users\\HP\\AppData\\Local\\Programs\\Python\\Python313\\Lib\\site-packages\\statsmodels\\tsa\\statespace\\sarimax.py:978: UserWarning: Non-invertible starting MA parameters found. Using zeros as starting parameters.\n",
      "  warn('Non-invertible starting MA parameters found.'\n",
      "c:\\Users\\HP\\AppData\\Local\\Programs\\Python\\Python313\\Lib\\site-packages\\statsmodels\\tsa\\statespace\\sarimax.py:978: UserWarning: Non-invertible starting MA parameters found. Using zeros as starting parameters.\n",
      "  warn('Non-invertible starting MA parameters found.'\n",
      "c:\\Users\\HP\\AppData\\Local\\Programs\\Python\\Python313\\Lib\\site-packages\\statsmodels\\tsa\\statespace\\sarimax.py:966: UserWarning: Non-stationary starting autoregressive parameters found. Using zeros as starting parameters.\n",
      "  warn('Non-stationary starting autoregressive parameters'\n",
      "c:\\Users\\HP\\AppData\\Local\\Programs\\Python\\Python313\\Lib\\site-packages\\statsmodels\\base\\model.py:607: ConvergenceWarning: Maximum Likelihood optimization failed to converge. Check mle_retvals\n",
      "  warnings.warn(\"Maximum Likelihood optimization failed to \"\n",
      "c:\\Users\\HP\\AppData\\Local\\Programs\\Python\\Python313\\Lib\\site-packages\\statsmodels\\tsa\\statespace\\sarimax.py:966: UserWarning: Non-stationary starting autoregressive parameters found. Using zeros as starting parameters.\n",
      "  warn('Non-stationary starting autoregressive parameters'\n",
      "c:\\Users\\HP\\AppData\\Local\\Programs\\Python\\Python313\\Lib\\site-packages\\statsmodels\\tsa\\statespace\\sarimax.py:978: UserWarning: Non-invertible starting MA parameters found. Using zeros as starting parameters.\n",
      "  warn('Non-invertible starting MA parameters found.'\n"
     ]
    },
    {
     "name": "stdout",
     "output_type": "stream",
     "text": [
      "ARIMA(1,1,0) → Prédiction 2014 : 112860 | AIC : 151.09\n",
      "ARIMA(1,1,1) → Prédiction 2014 : 118965 | AIC : 146.19\n",
      "ARIMA(1,1,2) → Prédiction 2014 : 119515 | AIC : 147.49\n",
      "ARIMA(2,0,0) → Prédiction 2014 : 112792 | AIC : 174.49\n"
     ]
    },
    {
     "name": "stderr",
     "output_type": "stream",
     "text": [
      "c:\\Users\\HP\\AppData\\Local\\Programs\\Python\\Python313\\Lib\\site-packages\\statsmodels\\tsa\\statespace\\sarimax.py:966: UserWarning: Non-stationary starting autoregressive parameters found. Using zeros as starting parameters.\n",
      "  warn('Non-stationary starting autoregressive parameters'\n",
      "c:\\Users\\HP\\AppData\\Local\\Programs\\Python\\Python313\\Lib\\site-packages\\statsmodels\\tsa\\statespace\\sarimax.py:966: UserWarning: Non-stationary starting autoregressive parameters found. Using zeros as starting parameters.\n",
      "  warn('Non-stationary starting autoregressive parameters'\n",
      "c:\\Users\\HP\\AppData\\Local\\Programs\\Python\\Python313\\Lib\\site-packages\\statsmodels\\tsa\\statespace\\sarimax.py:978: UserWarning: Non-invertible starting MA parameters found. Using zeros as starting parameters.\n",
      "  warn('Non-invertible starting MA parameters found.'\n"
     ]
    },
    {
     "name": "stdout",
     "output_type": "stream",
     "text": [
      "ARIMA(2,0,1) → Prédiction 2014 : 113450 | AIC : 174.20\n",
      "ARIMA(2,0,2) → Prédiction 2014 : 103251 | AIC : 190.28\n",
      "ARIMA(2,1,0) → Prédiction 2014 : 115070 | AIC : 152.46\n",
      "ARIMA(2,1,1) → Prédiction 2014 : 119422 | AIC : 160.54\n",
      "ARIMA(2,1,2) → Prédiction 2014 : 120828 | AIC : 149.49\n"
     ]
    },
    {
     "name": "stderr",
     "output_type": "stream",
     "text": [
      "c:\\Users\\HP\\AppData\\Local\\Programs\\Python\\Python313\\Lib\\site-packages\\statsmodels\\tsa\\statespace\\sarimax.py:966: UserWarning: Non-stationary starting autoregressive parameters found. Using zeros as starting parameters.\n",
      "  warn('Non-stationary starting autoregressive parameters'\n",
      "c:\\Users\\HP\\AppData\\Local\\Programs\\Python\\Python313\\Lib\\site-packages\\statsmodels\\tsa\\statespace\\sarimax.py:966: UserWarning: Non-stationary starting autoregressive parameters found. Using zeros as starting parameters.\n",
      "  warn('Non-stationary starting autoregressive parameters'\n",
      "c:\\Users\\HP\\AppData\\Local\\Programs\\Python\\Python313\\Lib\\site-packages\\statsmodels\\tsa\\statespace\\sarimax.py:966: UserWarning: Non-stationary starting autoregressive parameters found. Using zeros as starting parameters.\n",
      "  warn('Non-stationary starting autoregressive parameters'\n",
      "c:\\Users\\HP\\AppData\\Local\\Programs\\Python\\Python313\\Lib\\site-packages\\statsmodels\\base\\model.py:607: ConvergenceWarning: Maximum Likelihood optimization failed to converge. Check mle_retvals\n",
      "  warnings.warn(\"Maximum Likelihood optimization failed to \"\n"
     ]
    }
   ],
   "source": [
    "from statsmodels.tsa.arima.model import ARIMA    #127766\n",
    "import numpy as np\n",
    "\n",
    "#predire le nombre d'inscrit pour 2014\n",
    "#test plusieurs combinaison de parametre  p ,d,q\n",
    "for p in range(0, 3):\n",
    "    for d in range(0, 2):\n",
    "        for q in range(0, 3):\n",
    "            try:\n",
    "                model = ARIMA(data_2006_2013[\"Nombre d'inscrit\"], order=(p, d, q))\n",
    "                model_fit = model.fit()\n",
    "                pred = model_fit.forecast(steps=1)\n",
    "                print(f\"ARIMA({p},{d},{q}) → Prédiction 2014 : {int(pred.iloc[0])} | AIC : {model_fit.aic:.2f}\")\n",
    "            except Exception as e:\n",
    "                continue \n",
    "            \n",
    "           "
   ]
  },
  {
   "cell_type": "markdown",
   "id": "d3cd2657",
   "metadata": {},
   "source": [
    "ici on chosit l'aic le plus petit et la prediction qui s'approche du reel on prend p = 2 , d = 1 q = 2"
   ]
  },
  {
   "cell_type": "code",
   "execution_count": 83,
   "id": "6f4027e1",
   "metadata": {},
   "outputs": [
    {
     "name": "stdout",
     "output_type": "stream",
     "text": [
      "Prédiction pour 2014 : 120828\n"
     ]
    }
   ],
   "source": [
    "model = ARIMA(data_2006_2013[\"Nombre d'inscrit\"], order=(2, 1, 2))\n",
    "model_fit = model.fit() \n",
    "pred = model_fit.forecast(steps=1)\n",
    "print(f\"Prédiction pour 2014 : {int(pred.iloc[0])}\")"
   ]
  },
  {
   "cell_type": "code",
   "execution_count": 84,
   "id": "cae37925",
   "metadata": {},
   "outputs": [
    {
     "name": "stdout",
     "output_type": "stream",
     "text": [
      "Score de prédiction : 15626.81\n"
     ]
    }
   ],
   "source": [
    "#score de prediction\n",
    "from sklearn.metrics import mean_squared_error\n",
    "from math import sqrt\n",
    "score = sqrt(mean_squared_error(data_2006_2013[\"Nombre d'inscrit\"], model_fit.fittedvalues))\n",
    "print(f\"Score de prédiction : {score:.2f}\")\n"
   ]
  },
  {
   "cell_type": "markdown",
   "id": "44d06414",
   "metadata": {},
   "source": [
    "Plus le score est bas meilleur est le modele "
   ]
  },
  {
   "cell_type": "code",
   "execution_count": 86,
   "id": "15d96d7c",
   "metadata": {},
   "outputs": [
    {
     "name": "stdout",
     "output_type": "stream",
     "text": [
      "ARIMA(0,0,0) → Prédiction reussite 2014 : 41 | AIC : 52.26\n",
      "ARIMA(0,0,1) → Prédiction reussite 2014 : 40 | AIC : 52.62\n",
      "ARIMA(0,0,2) → Prédiction reussite 2014 : 40 | AIC : 53.88\n",
      "ARIMA(0,1,0) → Prédiction reussite 2014 : 38 | AIC : 43.54\n",
      "ARIMA(0,1,1) → Prédiction reussite 2014 : 38 | AIC : 45.44\n",
      "ARIMA(0,1,2) → Prédiction reussite 2014 : 38 | AIC : 47.44\n",
      "ARIMA(1,0,0) → Prédiction reussite 2014 : 39 | AIC : 52.28\n",
      "ARIMA(1,0,1) → Prédiction reussite 2014 : 39 | AIC : 54.19\n",
      "ARIMA(1,0,2) → Prédiction reussite 2014 : 40 | AIC : 56.28\n",
      "ARIMA(1,1,0) → Prédiction reussite 2014 : 38 | AIC : 45.44\n"
     ]
    },
    {
     "name": "stderr",
     "output_type": "stream",
     "text": [
      "c:\\Users\\HP\\AppData\\Local\\Programs\\Python\\Python313\\Lib\\site-packages\\statsmodels\\tsa\\statespace\\sarimax.py:978: UserWarning: Non-invertible starting MA parameters found. Using zeros as starting parameters.\n",
      "  warn('Non-invertible starting MA parameters found.'\n",
      "c:\\Users\\HP\\AppData\\Local\\Programs\\Python\\Python313\\Lib\\site-packages\\statsmodels\\tsa\\statespace\\sarimax.py:978: UserWarning: Non-invertible starting MA parameters found. Using zeros as starting parameters.\n",
      "  warn('Non-invertible starting MA parameters found.'\n",
      "c:\\Users\\HP\\AppData\\Local\\Programs\\Python\\Python313\\Lib\\site-packages\\statsmodels\\tsa\\statespace\\sarimax.py:978: UserWarning: Non-invertible starting MA parameters found. Using zeros as starting parameters.\n",
      "  warn('Non-invertible starting MA parameters found.'\n"
     ]
    },
    {
     "name": "stdout",
     "output_type": "stream",
     "text": [
      "ARIMA(1,1,1) → Prédiction reussite 2014 : 38 | AIC : 47.44\n",
      "ARIMA(1,1,2) → Prédiction reussite 2014 : 38 | AIC : 49.44\n",
      "ARIMA(2,0,0) → Prédiction reussite 2014 : 40 | AIC : 54.12\n",
      "ARIMA(2,0,1) → Prédiction reussite 2014 : 41 | AIC : 55.07\n"
     ]
    },
    {
     "name": "stderr",
     "output_type": "stream",
     "text": [
      "c:\\Users\\HP\\AppData\\Local\\Programs\\Python\\Python313\\Lib\\site-packages\\statsmodels\\base\\model.py:607: ConvergenceWarning: Maximum Likelihood optimization failed to converge. Check mle_retvals\n",
      "  warnings.warn(\"Maximum Likelihood optimization failed to \"\n",
      "c:\\Users\\HP\\AppData\\Local\\Programs\\Python\\Python313\\Lib\\site-packages\\statsmodels\\tsa\\statespace\\sarimax.py:966: UserWarning: Non-stationary starting autoregressive parameters found. Using zeros as starting parameters.\n",
      "  warn('Non-stationary starting autoregressive parameters'\n",
      "c:\\Users\\HP\\AppData\\Local\\Programs\\Python\\Python313\\Lib\\site-packages\\statsmodels\\tsa\\statespace\\sarimax.py:978: UserWarning: Non-invertible starting MA parameters found. Using zeros as starting parameters.\n",
      "  warn('Non-invertible starting MA parameters found.'\n",
      "c:\\Users\\HP\\AppData\\Local\\Programs\\Python\\Python313\\Lib\\site-packages\\statsmodels\\tsa\\statespace\\sarimax.py:966: UserWarning: Non-stationary starting autoregressive parameters found. Using zeros as starting parameters.\n",
      "  warn('Non-stationary starting autoregressive parameters'\n",
      "c:\\Users\\HP\\AppData\\Local\\Programs\\Python\\Python313\\Lib\\site-packages\\statsmodels\\base\\model.py:607: ConvergenceWarning: Maximum Likelihood optimization failed to converge. Check mle_retvals\n",
      "  warnings.warn(\"Maximum Likelihood optimization failed to \"\n"
     ]
    },
    {
     "name": "stdout",
     "output_type": "stream",
     "text": [
      "ARIMA(2,0,2) → Prédiction reussite 2014 : 42 | AIC : 56.90\n",
      "ARIMA(2,1,0) → Prédiction reussite 2014 : 38 | AIC : 47.44\n",
      "ARIMA(2,1,1) → Prédiction reussite 2014 : 38 | AIC : 49.44\n",
      "ARIMA(2,1,2) → Prédiction reussite 2014 : 38 | AIC : 51.37\n"
     ]
    },
    {
     "name": "stderr",
     "output_type": "stream",
     "text": [
      "c:\\Users\\HP\\AppData\\Local\\Programs\\Python\\Python313\\Lib\\site-packages\\statsmodels\\base\\model.py:607: ConvergenceWarning: Maximum Likelihood optimization failed to converge. Check mle_retvals\n",
      "  warnings.warn(\"Maximum Likelihood optimization failed to \"\n"
     ]
    }
   ],
   "source": [
    "#predire le taux d'admis pour 2014\n",
    "for p in range(0, 3):\n",
    "    for d in range(0, 2):\n",
    "        for q in range(0, 3):\n",
    "            try:\n",
    "                model = ARIMA(data_2006_2013[\"taux_reussite\"], order=(p, d, q))\n",
    "                model_fit = model.fit()\n",
    "                pred = model_fit.forecast(steps=1)\n",
    "                print(f\"ARIMA({p},{d},{q}) → Prédiction reussite 2014 : {int(pred.iloc[0])} | AIC : {model_fit.aic:.2f}\")\n",
    "            except Exception as e:\n",
    "                continue "
   ]
  },
  {
   "cell_type": "markdown",
   "id": "25bef959",
   "metadata": {},
   "source": [
    "meme raisonnement on prend l'aic le plus petit donc (2,1,0)"
   ]
  },
  {
   "cell_type": "code",
   "execution_count": 89,
   "id": "7b888d5e",
   "metadata": {},
   "outputs": [
    {
     "name": "stdout",
     "output_type": "stream",
     "text": [
      "Prédiction pour le taux de reussite pour 2014 : 38\n"
     ]
    },
    {
     "name": "stderr",
     "output_type": "stream",
     "text": [
      "c:\\Users\\HP\\AppData\\Local\\Programs\\Python\\Python313\\Lib\\site-packages\\statsmodels\\base\\model.py:607: ConvergenceWarning: Maximum Likelihood optimization failed to converge. Check mle_retvals\n",
      "  warnings.warn(\"Maximum Likelihood optimization failed to \"\n"
     ]
    }
   ],
   "source": [
    "model = ARIMA(data_2006_2013[\"taux_reussite\"], order=(2, 1, 2))\n",
    "model_fit = model.fit()\n",
    "pred = model_fit.forecast(steps=1)\n",
    "print(f\"Prédiction pour le taux de reussite pour 2014 : {int(pred.iloc[0])}\")"
   ]
  },
  {
   "cell_type": "markdown",
   "id": "8e8df42e",
   "metadata": {},
   "source": [
    "## test la regression lineaire"
   ]
  },
  {
   "cell_type": "code",
   "execution_count": null,
   "id": "e04e9552",
   "metadata": {},
   "outputs": [
    {
     "name": "stdout",
     "output_type": "stream",
     "text": [
      "Prédiction du nombre d'inscrits pour 2014 (régression linéaire) : 114821\n",
      "Score de prédiction (régression linéaire) : 4905.82\n",
      "Prédiction du taux de réussite pour 2014 (régression linéaire) : 33\n",
      "Score de prédiction (régression linéaire) : 3.22\n"
     ]
    }
   ],
   "source": [
    "from sklearn.linear_model import LinearRegression\n",
    "import numpy as np\n",
    "\n",
    "# Préparation des données\n",
    "X = data_2006_2013[['annee']].values  \n",
    "y = data_2006_2013[\"Nombre d'inscrit\"].values\n",
    "reg = LinearRegression().fit(X, y)\n",
    "\n",
    "# Prédiction pour 2014\n",
    "pred_2014 = reg.predict(np.array([[2014]]))\n",
    "print(f\"Prédiction du nombre d'inscrits pour 2014 (régression linéaire) : {int(pred_2014[0])}\")\n",
    "\n",
    "\n",
    "from sklearn.metrics import mean_squared_error\n",
    "from math import sqrt\n",
    "y_pred = reg.predict(X)\n",
    "score_lr = sqrt(mean_squared_error(y, y_pred))\n",
    "print(f\"Score de prédiction (régression linéaire) : {score_lr:.2f}\") \n",
    "\n",
    "y2 = data_2006_2013[\"taux_reussite\"].values\n",
    "reg2 = LinearRegression().fit(X, y2)\n",
    "pred_2014_2 = reg2.predict(np.array([[2014]]))\n",
    "print(f\"Prédiction du taux de réussite pour 2014 (régression linéaire) : {int(pred_2014_2[0])}\")\n",
    "y_pred2 = reg2.predict(X)\n",
    "score_lr2 = sqrt(mean_squared_error(y2, y_pred2))\n",
    "print(f\"Score de prédiction (régression linéaire) : {score_lr2:.2f}\")"
   ]
  },
  {
   "cell_type": "markdown",
   "id": "5a5d3f4a",
   "metadata": {},
   "source": [
    "Conclusion : la regression lineaire fornit des resultats plus precis le nombre d'inscrit predit et le taux de reussite s'approche plus des valeurs relles et le RMSE  est plus bas avec la regression lineaire  "
   ]
  }
 ],
 "metadata": {
  "kernelspec": {
   "display_name": "Python 3",
   "language": "python",
   "name": "python3"
  },
  "language_info": {
   "codemirror_mode": {
    "name": "ipython",
    "version": 3
   },
   "file_extension": ".py",
   "mimetype": "text/x-python",
   "name": "python",
   "nbconvert_exporter": "python",
   "pygments_lexer": "ipython3",
   "version": "3.13.2"
  }
 },
 "nbformat": 4,
 "nbformat_minor": 5
}
