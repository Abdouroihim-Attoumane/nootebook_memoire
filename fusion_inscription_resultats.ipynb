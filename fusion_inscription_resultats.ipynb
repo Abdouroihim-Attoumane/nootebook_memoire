{
 "cells": [
  {
   "cell_type": "markdown",
   "metadata": {},
   "source": [
    "# Notebook de préparation des données et fusion des données des Inscrits et des Résultats de UCAD\n",
    "\n",
    "**Contexte**\n",
    "\n",
    "Notre étude porte sur :\n",
    "\n",
    "### *l’analyse de l'impact des dernières réformes du baccalauréat au Sénégal sur le taux de réussite au Bac et l’insertion universitaire*.\n",
    "\n",
    "Afin d’étudier les cohortes d’étudiants impactés par les dernières réformes du baccalauréat, il est nécessaire d’avoir une vue sur leur réussite à l’UCAD (à travers les données de résultats). Cependant, comme ces données ne contiennent ni l’année d’obtention du Bac, ni la série obtenue, il est indispensable de les fusionner avec les données d’inscription, qui, elles, contiennent ces informations. La fusion se fait à l’aide de la clé commune : **le numéro d’étudiant** "
   ]
  },
  {
   "cell_type": "markdown",
   "metadata": {},
   "source": [
    "## Importation des packages nécessaires "
   ]
  },
  {
   "cell_type": "code",
   "execution_count": 1,
   "metadata": {},
   "outputs": [],
   "source": [
    "import warnings\n",
    "warnings.filterwarnings('ignore') # ignore warnings from sklearn"
   ]
  },
  {
   "cell_type": "code",
   "execution_count": 2,
   "metadata": {
    "id": "5YJAmZ7PJUZ3"
   },
   "outputs": [],
   "source": [
    "import pandas as pd # pour la manipulation de données\n",
    "import os # pour les opérations sur les chemins de fichiers\n",
    "from tqdm import tqdm # Affichage de barres de progression"
   ]
  },
  {
   "cell_type": "markdown",
   "metadata": {},
   "source": [
    "## Importation des Données"
   ]
  },
  {
   "cell_type": "markdown",
   "metadata": {},
   "source": [
    "### Données des Inscrits"
   ]
  },
  {
   "cell_type": "code",
   "execution_count": 3,
   "metadata": {
    "colab": {
     "base_uri": "https://localhost:8080/"
    },
    "executionInfo": {
     "elapsed": 6,
     "status": "ok",
     "timestamp": 1747316428985,
     "user": {
      "displayName": "Abdouroihim Attoumane",
      "userId": "12691605171806898452"
     },
     "user_tz": 0
    },
    "id": "GN-DDR4hJxyr",
    "outputId": "fd688f57-b528-4b94-8539-32d2856f35f3"
   },
   "outputs": [
    {
     "name": "stdout",
     "output_type": "stream",
     "text": [
      "liste des fichiers csv des inscrits à l'UCAD par année :\n",
      "2002.csv\n",
      "2003.csv\n",
      "2004.csv\n",
      "2005.csv\n",
      "2006.csv\n",
      "2007.csv\n",
      "2008.csv\n",
      "2009.csv\n",
      "2010.csv\n",
      "2011.csv\n",
      "2012.csv\n",
      "2013.csv\n",
      "2014.csv\n",
      "2015.csv\n",
      "2016.csv\n",
      "2017.csv\n",
      "2018.csv\n",
      "2019.csv\n",
      "2020.csv\n",
      "2021.csv\n",
      "2022.csv\n",
      "2023.csv\n",
      "2024.csv\n",
      "2025.csv\n"
     ]
    }
   ],
   "source": [
    "file_path = os.path.join(os.getcwd(), \"data_csv_inscrits\") # Chemin vers le dossier contenant les fichiers CSV\n",
    "file = os.listdir(file_path) # Liste des fichiers dans le dossier\n",
    "\n",
    "print(\"liste des fichiers csv des inscrits à l'UCAD par année :\")\n",
    "for f in file:\n",
    "    print(f)"
   ]
  },
  {
   "cell_type": "markdown",
   "metadata": {
    "id": "EGv3cbu5sYCt"
   },
   "source": [
    "### Importation des données des Inscrits de 2011 à 2024 pour la Fusion\n",
    "\n",
    "#### Remarque :\n",
    "\n",
    "Comme les données de résultats commencent à partir de l’année universitaire 2010-2011, la fusion ne prendra en compte que les inscriptions à partir de 2011, correspondant à cette année universitaire."
   ]
  },
  {
   "cell_type": "code",
   "execution_count": 4,
   "metadata": {
    "colab": {
     "base_uri": "https://localhost:8080/"
    },
    "executionInfo": {
     "elapsed": 34465,
     "status": "ok",
     "timestamp": 1747316463449,
     "user": {
      "displayName": "Abdouroihim Attoumane",
      "userId": "12691605171806898452"
     },
     "user_tz": 0
    },
    "id": "EFUiG7HpLFiv",
    "outputId": "5044f1a2-0378-4e0a-cbb3-6f77fea62ada"
   },
   "outputs": [
    {
     "name": "stderr",
     "output_type": "stream",
     "text": [
      "Importation des fichiers CSV: 100%|██████████| 14/14 [00:05<00:00,  2.59it/s, 2024.csv chargé ✅]"
     ]
    },
    {
     "name": "stdout",
     "output_type": "stream",
     "text": [
      "\n",
      "✅ Fichiers chargés avec succès (14):\n",
      "2011, 2012, 2013, 2014, 2015, 2016, 2017, 2018, 2019, 2020, 2021, 2022, 2023, 2024\n"
     ]
    },
    {
     "name": "stderr",
     "output_type": "stream",
     "text": [
      "\n"
     ]
    }
   ],
   "source": [
    "# Liste des années\n",
    "year = [str(a) for a in range(2011, 2024+1)]\n",
    "data = {}\n",
    "\n",
    "# Pour stocker les résultats\n",
    "success_files = []\n",
    "failed_files = []\n",
    "\n",
    "# Chargement avec barre de progression\n",
    "pbr = tqdm(year, desc=\"Importation des fichiers CSV\")\n",
    "for year in pbr:\n",
    "    fichier = f\"{file_path}/{year}.csv\"\n",
    "    try:\n",
    "        df = pd.read_csv(fichier, sep=\";\", encoding='latin-1')  # Charge chaque fichier\n",
    "        data[year] = df  # Stocke dans le dictionnaire\n",
    "        success_files.append(year)\n",
    "        pbr.set_postfix_str(f\"{year}.csv chargé ✅\")\n",
    "    except Exception as e:\n",
    "        failed_files.append((year, str(e)))\n",
    "        print(f\"❌ Erreur inconnue avec {fichier} : {e}\")\n",
    "\n",
    "if success_files:\n",
    "    print(f\"\\n✅ Fichiers chargés avec succès ({len(success_files)}):\")\n",
    "    print(\", \".join(success_files))\n",
    "\n",
    "if failed_files:\n",
    "    print(f\"\\n❌ Fichiers en erreur ({len(failed_files)}):\")\n",
    "    for year, err in failed_files:\n",
    "        print(f\"  - {year}.csv : {err}\")"
   ]
  },
  {
   "cell_type": "markdown",
   "metadata": {},
   "source": [
    "### Vérification de l’homogénéité des colonnes dans tous les fichiers"
   ]
  },
  {
   "cell_type": "code",
   "execution_count": 5,
   "metadata": {},
   "outputs": [
    {
     "name": "stdout",
     "output_type": "stream",
     "text": [
      "✅ Toutes les colonnes sont identiques dans tous les fichiers.\n"
     ]
    }
   ],
   "source": [
    "colonnes_reference = set(data[\"2011\"].columns)  # Colonnes de 2011 comme référence\n",
    "colonnes_identiques = True  # Drapeau pour suivre l'état\n",
    "\n",
    "for year, df in data.items(): # Parcours des années et vérification des colonnes\n",
    "    colonnes_actuelles = set(df.columns) # Colonnes actuelles du fichier\n",
    "    if colonnes_actuelles != colonnes_reference: # Si les colonnes ne correspondent pas\n",
    "        print(f\"⚠️ Les colonnes de {year}.csv sont différentes de celles de 2006.csv\")  \n",
    "        print(f\"Colonnes manquantes dans {year}.csv :\", colonnes_reference - colonnes_actuelles)\n",
    "        print(f\"Colonnes supplémentaires dans {year}.csv :\", colonnes_actuelles - colonnes_reference)\n",
    "        colonnes_identiques = False \n",
    "\n",
    "if colonnes_identiques:\n",
    "    print(\"✅ Toutes les colonnes sont identiques dans tous les fichiers.\")\n"
   ]
  },
  {
   "cell_type": "markdown",
   "metadata": {},
   "source": [
    "### Données des Résultats"
   ]
  },
  {
   "cell_type": "code",
   "execution_count": 6,
   "metadata": {
    "id": "61zHKyvPGJzh"
   },
   "outputs": [
    {
     "name": "stdout",
     "output_type": "stream",
     "text": [
      "✅ Importation du fichier resultat_ucad_clen.csv réussie.\n"
     ]
    }
   ],
   "source": [
    "df_resultat = pd.read_csv(\"resultat_ucad_clen.csv\")\n",
    "print(\"✅ Importation du fichier resultat_ucad_clen.csv réussie.\")"
   ]
  },
  {
   "cell_type": "markdown",
   "metadata": {},
   "source": [
    "## Nettoyage et Préparation des données"
   ]
  },
  {
   "cell_type": "markdown",
   "metadata": {},
   "source": [
    "### Données des Inscrits "
   ]
  },
  {
   "cell_type": "code",
   "execution_count": 7,
   "metadata": {
    "colab": {
     "base_uri": "https://localhost:8080/"
    },
    "executionInfo": {
     "elapsed": 111,
     "status": "ok",
     "timestamp": 1747316463809,
     "user": {
      "displayName": "Abdouroihim Attoumane",
      "userId": "12691605171806898452"
     },
     "user_tz": 0
    },
    "id": "ukrefnnuMugT",
    "outputId": "56220313-79d0-4a23-88b6-fc4e7a92b48b"
   },
   "outputs": [
    {
     "name": "stdout",
     "output_type": "stream",
     "text": [
      "Informations sur le DataFrame de 2011 (Tous les fichiers ont les mêmes colonnes) :\n",
      "--------------------------------------------------\n",
      "<class 'pandas.core.frame.DataFrame'>\n",
      "RangeIndex: 67522 entries, 0 to 67521\n",
      "Data columns (total 32 columns):\n",
      " #   Column                   Non-Null Count  Dtype  \n",
      "---  ------                   --------------  -----  \n",
      " 0   NUMERO                   67522 non-null  object \n",
      " 1   NUMERO_TABLE             0 non-null      float64\n",
      " 2   INE                      27511 non-null  object \n",
      " 3   NUMERO_IDENTITIFICATION  67522 non-null  object \n",
      " 4   NOM                      67522 non-null  object \n",
      " 5   PRENOM                   67522 non-null  object \n",
      " 6   DATE_DE_NAISSANCE        67522 non-null  object \n",
      " 7   LIEU_DE_NAISSANCE        67442 non-null  object \n",
      " 8   MAIL_INSTITUTIONNEL      33405 non-null  object \n",
      " 9   SEXE                     67522 non-null  object \n",
      " 10  MENTION_BACC             67151 non-null  object \n",
      " 11  ANNEE_BACC               67185 non-null  float64\n",
      " 12  PAYS_DE_NAISSANCE        67522 non-null  object \n",
      " 13  NATIONALITE              67522 non-null  object \n",
      " 14  SERIE_BACC               66213 non-null  object \n",
      " 15  REGION_DE_NAISSANCE      63259 non-null  object \n",
      " 16  ETABLISSMENT_CODE        67522 non-null  object \n",
      " 17  ETABLISSEMENT            67522 non-null  object \n",
      " 18  NIVEAU_SECTION           67522 non-null  object \n",
      " 19  SIGLE_NIVEAU_SECTION     67522 non-null  object \n",
      " 20  COHORTE                  6672 non-null   object \n",
      " 21  ETAT_INSCRIPTION         67522 non-null  object \n",
      " 22  ANNEE_INSCRIPTION        67522 non-null  int64  \n",
      " 23  ANNEE_UNIVERSITAIRE      67522 non-null  object \n",
      " 24  TYPE_FORMATION           67522 non-null  object \n",
      " 25  CODE_NIVEAU              67522 non-null  int64  \n",
      " 26  NIVEAU                   67522 non-null  object \n",
      " 27  DATE_INSCRIPTION         67522 non-null  object \n",
      " 28  NIVEAU LMD               47343 non-null  object \n",
      " 29  NIVEAU LMD ET NON LMD    67522 non-null  object \n",
      " 30  SYSTEME                  67522 non-null  object \n",
      " 31  DEPARTEMENT FORMATION    67522 non-null  object \n",
      "dtypes: float64(2), int64(2), object(28)\n",
      "memory usage: 16.5+ MB\n"
     ]
    }
   ],
   "source": [
    "print(\"Informations sur le DataFrame de 2011 (Tous les fichiers ont les mêmes colonnes) :\")\n",
    "print(\"--------------------------------------------------\")\n",
    "data['2011'].info()"
   ]
  },
  {
   "cell_type": "markdown",
   "metadata": {},
   "source": [
    "### Creation du DataFram regroupant tous les années"
   ]
  },
  {
   "cell_type": "code",
   "execution_count": 8,
   "metadata": {
    "colab": {
     "base_uri": "https://localhost:8080/",
     "height": 429
    },
    "executionInfo": {
     "elapsed": 22847,
     "status": "ok",
     "timestamp": 1747316486675,
     "user": {
      "displayName": "Abdouroihim Attoumane",
      "userId": "12691605171806898452"
     },
     "user_tz": 0
    },
    "id": "bcNqg5e6EaET",
    "outputId": "98c3e690-53ea-467d-c60e-e4f17ffe4602"
   },
   "outputs": [
    {
     "name": "stdout",
     "output_type": "stream",
     "text": [
      "Affichage du DataFrame combiné:\n"
     ]
    },
    {
     "data": {
      "application/vnd.microsoft.datawrangler.viewer.v0+json": {
       "columns": [
        {
         "name": "index",
         "rawType": "int64",
         "type": "integer"
        },
        {
         "name": "NUMERO",
         "rawType": "object",
         "type": "string"
        },
        {
         "name": "MENTION_BACC",
         "rawType": "object",
         "type": "unknown"
        },
        {
         "name": "ANNEE_BACC",
         "rawType": "float64",
         "type": "float"
        },
        {
         "name": "SERIE_BACC",
         "rawType": "object",
         "type": "unknown"
        },
        {
         "name": "ETABLISSMENT_CODE",
         "rawType": "object",
         "type": "string"
        },
        {
         "name": "ANNEE_INSCRIPTION",
         "rawType": "int64",
         "type": "integer"
        }
       ],
       "ref": "8a661f7f-0d63-47fd-9110-a31e1a5417a8",
       "rows": [
        [
         "0",
         ".19950018H",
         "PA",
         "1990.0",
         null,
         "FASTEF",
         "2011"
        ],
        [
         "1",
         ".199700AUY",
         "PA",
         "1995.0",
         "D",
         "FMPO",
         "2011"
        ],
        [
         "2",
         ".199900QF3",
         "PA",
         "1999.0",
         "L2",
         "FASTEF",
         "2011"
        ],
        [
         "3",
         ".199900RLX",
         "PA",
         "1999.0",
         "S2",
         "FMPO",
         "2011"
        ],
        [
         "4",
         ".199900RMH",
         "PA",
         "1999.0",
         "S2",
         "FMPO",
         "2011"
        ],
        [
         "5",
         ".199800L9B",
         "PA",
         "1998.0",
         "S2",
         "FMPO",
         "2011"
        ],
        [
         "6",
         ".199700FGS",
         "PA",
         "1997.0",
         "A3",
         "FLSH",
         "2011"
        ],
        [
         "7",
         ".199900ZQE",
         "PA",
         "1999.0",
         "S2",
         "FMPO",
         "2011"
        ],
        [
         "8",
         ".199900ZJ7",
         "PA",
         "1999.0",
         "S2",
         "FST",
         "2011"
        ],
        [
         "9",
         ".2000011MN",
         "PA",
         "2000.0",
         "L2",
         "FLSH",
         "2011"
        ],
        [
         "10",
         ".2000011UA",
         "PA",
         "2000.0",
         "L'1",
         "FLSH",
         "2011"
        ],
        [
         "11",
         ".199900RN1",
         "PA",
         "1999.0",
         "S2",
         "FMPO",
         "2011"
        ],
        [
         "12",
         ".20000131O",
         "PA",
         "1997.0",
         "A3",
         "FSJP",
         "2011"
        ],
        [
         "13",
         ".2000013ON",
         "PA",
         "2000.0",
         "D",
         "FMPO",
         "2011"
        ],
        [
         "14",
         ".2000012ZW",
         "PA",
         "2000.0",
         "S2",
         "FSJP",
         "2011"
        ],
        [
         "15",
         ".2000015RL",
         "PA",
         "2000.0",
         "L2",
         "FLSH",
         "2011"
        ],
        [
         "16",
         ".2000014AC",
         "PA",
         "2000.0",
         "L'1",
         "FLSH",
         "2011"
        ],
        [
         "17",
         ".199800YDR",
         "PA",
         "1998.0",
         "S2",
         "FST",
         "2011"
        ],
        [
         "18",
         ".2000016UI",
         "PA",
         "1987.0",
         "A3",
         "FASEG",
         "2011"
        ],
        [
         "19",
         ".2001017U7",
         "PA",
         "2001.0",
         "L'1",
         "FLSH",
         "2011"
        ],
        [
         "20",
         ".2001018VV",
         "PA",
         "2001.0",
         "S2",
         "FASEG",
         "2011"
        ],
        [
         "21",
         ".2001018HF",
         "PA",
         "2001.0",
         "S2",
         "FMPO",
         "2011"
        ],
        [
         "22",
         ".2001019NU",
         "PA",
         "2001.0",
         "S2",
         "FST",
         "2011"
        ],
        [
         "23",
         ".2001019SD",
         "PA",
         "2000.0",
         "L2",
         "FSJP",
         "2011"
        ],
        [
         "24",
         ".2001019WA",
         "PA",
         "2001.0",
         "L2",
         "FLSH",
         "2011"
        ],
        [
         "25",
         ".200101CDB",
         "PA",
         "2001.0",
         "L2",
         "FSJP",
         "2011"
        ],
        [
         "26",
         ".1997008VZ",
         "PA",
         "1997.0",
         "A3",
         "FLSH",
         "2011"
        ],
        [
         "27",
         ".200201FX7",
         "PA",
         "2002.0",
         "L'1",
         "FSJP",
         "2011"
        ],
        [
         "28",
         ".200201FYR",
         "PA",
         "2002.0",
         "L'1",
         "FASTEF",
         "2011"
        ],
        [
         "29",
         ".200201GHE",
         "PA",
         "2002.0",
         "S2",
         "FST",
         "2011"
        ],
        [
         "30",
         ".200201HSF",
         "PA",
         "2002.0",
         "L2",
         "FLSH",
         "2011"
        ],
        [
         "31",
         ".200201I1F",
         "PA",
         "2002.0",
         "L'1",
         "FLSH",
         "2011"
        ],
        [
         "32",
         ".200201I3W",
         "PA",
         "2002.0",
         "L'1",
         "FASEG",
         "2011"
        ],
        [
         "33",
         ".200201IVR",
         "PA",
         "2002.0",
         "L2",
         "FSJP",
         "2011"
        ],
        [
         "34",
         ".200201K9E",
         "PA",
         "2002.0",
         "L'1",
         "FASTEF",
         "2011"
        ],
        [
         "35",
         ".200201KDS",
         "PA",
         "2002.0",
         "S2",
         "FST",
         "2011"
        ],
        [
         "36",
         ".200201LLJ",
         "PA",
         "2002.0",
         "L'1",
         "FLSH",
         "2011"
        ],
        [
         "37",
         ".200201KZ2",
         "PA",
         "2002.0",
         "L2",
         "FASEG",
         "2011"
        ],
        [
         "38",
         ".200201NNN",
         "PA",
         "2002.0",
         "L2",
         "FLSH",
         "2011"
        ],
        [
         "39",
         ".200201MG7",
         "PA",
         "2002.0",
         "L'1",
         "FLSH",
         "2011"
        ],
        [
         "40",
         ".200201MSB",
         "PA",
         "2002.0",
         "S2",
         "FMPO",
         "2011"
        ],
        [
         "41",
         ".200201NJR",
         "PA",
         "2002.0",
         "L'1",
         "FLSH",
         "2011"
        ],
        [
         "42",
         ".200201NUH",
         "PA",
         "2002.0",
         "L2",
         "FLSH",
         "2011"
        ],
        [
         "43",
         ".200301PM8",
         "PA",
         "2003.0",
         "S2",
         "FST",
         "2011"
        ],
        [
         "44",
         ".200301PS1",
         "PA",
         "2003.0",
         "S4",
         "INSEPS",
         "2011"
        ],
        [
         "45",
         ".200301PZN",
         "PA",
         "2003.0",
         "L'1",
         "FSJP",
         "2011"
        ],
        [
         "46",
         ".200301QV1",
         "PA",
         "2003.0",
         "S2",
         "FST",
         "2011"
        ],
        [
         "47",
         ".200301QW4",
         "PA",
         "2003.0",
         "S2",
         "FST",
         "2011"
        ],
        [
         "48",
         ".200301QXA",
         "PA",
         "2003.0",
         "L'1",
         "FLSH",
         "2011"
        ],
        [
         "49",
         ".200301RI9",
         "PA",
         "2003.0",
         "L'1",
         "FSJP",
         "2011"
        ]
       ],
       "shape": {
        "columns": 6,
        "rows": 1141120
       }
      },
      "text/html": [
       "<div>\n",
       "<style scoped>\n",
       "    .dataframe tbody tr th:only-of-type {\n",
       "        vertical-align: middle;\n",
       "    }\n",
       "\n",
       "    .dataframe tbody tr th {\n",
       "        vertical-align: top;\n",
       "    }\n",
       "\n",
       "    .dataframe thead th {\n",
       "        text-align: right;\n",
       "    }\n",
       "</style>\n",
       "<table border=\"1\" class=\"dataframe\">\n",
       "  <thead>\n",
       "    <tr style=\"text-align: right;\">\n",
       "      <th></th>\n",
       "      <th>NUMERO</th>\n",
       "      <th>MENTION_BACC</th>\n",
       "      <th>ANNEE_BACC</th>\n",
       "      <th>SERIE_BACC</th>\n",
       "      <th>ETABLISSMENT_CODE</th>\n",
       "      <th>ANNEE_INSCRIPTION</th>\n",
       "    </tr>\n",
       "  </thead>\n",
       "  <tbody>\n",
       "    <tr>\n",
       "      <th>0</th>\n",
       "      <td>.19950018H</td>\n",
       "      <td>PA</td>\n",
       "      <td>1990.0</td>\n",
       "      <td>NaN</td>\n",
       "      <td>FASTEF</td>\n",
       "      <td>2011</td>\n",
       "    </tr>\n",
       "    <tr>\n",
       "      <th>1</th>\n",
       "      <td>.199700AUY</td>\n",
       "      <td>PA</td>\n",
       "      <td>1995.0</td>\n",
       "      <td>D</td>\n",
       "      <td>FMPO</td>\n",
       "      <td>2011</td>\n",
       "    </tr>\n",
       "    <tr>\n",
       "      <th>2</th>\n",
       "      <td>.199900QF3</td>\n",
       "      <td>PA</td>\n",
       "      <td>1999.0</td>\n",
       "      <td>L2</td>\n",
       "      <td>FASTEF</td>\n",
       "      <td>2011</td>\n",
       "    </tr>\n",
       "    <tr>\n",
       "      <th>3</th>\n",
       "      <td>.199900RLX</td>\n",
       "      <td>PA</td>\n",
       "      <td>1999.0</td>\n",
       "      <td>S2</td>\n",
       "      <td>FMPO</td>\n",
       "      <td>2011</td>\n",
       "    </tr>\n",
       "    <tr>\n",
       "      <th>4</th>\n",
       "      <td>.199900RMH</td>\n",
       "      <td>PA</td>\n",
       "      <td>1999.0</td>\n",
       "      <td>S2</td>\n",
       "      <td>FMPO</td>\n",
       "      <td>2011</td>\n",
       "    </tr>\n",
       "    <tr>\n",
       "      <th>...</th>\n",
       "      <td>...</td>\n",
       "      <td>...</td>\n",
       "      <td>...</td>\n",
       "      <td>...</td>\n",
       "      <td>...</td>\n",
       "      <td>...</td>\n",
       "    </tr>\n",
       "    <tr>\n",
       "      <th>1141115</th>\n",
       "      <td>.20230BQJP</td>\n",
       "      <td>PA</td>\n",
       "      <td>2023.0</td>\n",
       "      <td>L'1</td>\n",
       "      <td>FLSH</td>\n",
       "      <td>2024</td>\n",
       "    </tr>\n",
       "    <tr>\n",
       "      <th>1141116</th>\n",
       "      <td>.20230BREG</td>\n",
       "      <td>PA</td>\n",
       "      <td>2023.0</td>\n",
       "      <td>S1</td>\n",
       "      <td>FST</td>\n",
       "      <td>2024</td>\n",
       "    </tr>\n",
       "    <tr>\n",
       "      <th>1141117</th>\n",
       "      <td>.20230BXVL</td>\n",
       "      <td>BI</td>\n",
       "      <td>2023.0</td>\n",
       "      <td>S2</td>\n",
       "      <td>FMPO</td>\n",
       "      <td>2024</td>\n",
       "    </tr>\n",
       "    <tr>\n",
       "      <th>1141118</th>\n",
       "      <td>.20230BT8N</td>\n",
       "      <td>PA</td>\n",
       "      <td>2023.0</td>\n",
       "      <td>L2</td>\n",
       "      <td>FSJP</td>\n",
       "      <td>2024</td>\n",
       "    </tr>\n",
       "    <tr>\n",
       "      <th>1141119</th>\n",
       "      <td>.20230C2X8</td>\n",
       "      <td>PA</td>\n",
       "      <td>2016.0</td>\n",
       "      <td>L2</td>\n",
       "      <td>FASTEF</td>\n",
       "      <td>2024</td>\n",
       "    </tr>\n",
       "  </tbody>\n",
       "</table>\n",
       "<p>1141120 rows × 6 columns</p>\n",
       "</div>"
      ],
      "text/plain": [
       "             NUMERO MENTION_BACC  ANNEE_BACC SERIE_BACC ETABLISSMENT_CODE  \\\n",
       "0        .19950018H           PA      1990.0        NaN            FASTEF   \n",
       "1        .199700AUY           PA      1995.0          D              FMPO   \n",
       "2        .199900QF3           PA      1999.0         L2            FASTEF   \n",
       "3        .199900RLX           PA      1999.0         S2              FMPO   \n",
       "4        .199900RMH           PA      1999.0         S2              FMPO   \n",
       "...             ...          ...         ...        ...               ...   \n",
       "1141115  .20230BQJP           PA      2023.0        L'1              FLSH   \n",
       "1141116  .20230BREG           PA      2023.0         S1               FST   \n",
       "1141117  .20230BXVL           BI      2023.0         S2              FMPO   \n",
       "1141118  .20230BT8N           PA      2023.0         L2              FSJP   \n",
       "1141119  .20230C2X8           PA      2016.0         L2            FASTEF   \n",
       "\n",
       "         ANNEE_INSCRIPTION  \n",
       "0                     2011  \n",
       "1                     2011  \n",
       "2                     2011  \n",
       "3                     2011  \n",
       "4                     2011  \n",
       "...                    ...  \n",
       "1141115               2024  \n",
       "1141116               2024  \n",
       "1141117               2024  \n",
       "1141118               2024  \n",
       "1141119               2024  \n",
       "\n",
       "[1141120 rows x 6 columns]"
      ]
     },
     "execution_count": 8,
     "metadata": {},
     "output_type": "execute_result"
    }
   ],
   "source": [
    "all_data = pd.concat(data.values(), ignore_index=True) # Concatène tous les DataFrames en un seul\n",
    "\n",
    "print(\"Affichage du DataFrame combiné:\")\n",
    "\n",
    "all_data[[\"NUMERO\", \"MENTION_BACC\", \"ANNEE_BACC\", \"SERIE_BACC\", \"ETABLISSMENT_CODE\", \"ANNEE_INSCRIPTION\"]]"
   ]
  },
  {
   "cell_type": "code",
   "execution_count": 9,
   "metadata": {},
   "outputs": [
    {
     "name": "stdout",
     "output_type": "stream",
     "text": [
      "Informations général du DataFrame :\n",
      "--------------------------------------------------\n",
      "<class 'pandas.core.frame.DataFrame'>\n",
      "RangeIndex: 1141120 entries, 0 to 1141119\n",
      "Data columns (total 32 columns):\n",
      " #   Column                   Non-Null Count    Dtype  \n",
      "---  ------                   --------------    -----  \n",
      " 0   NUMERO                   1141120 non-null  object \n",
      " 1   NUMERO_TABLE             116181 non-null   float64\n",
      " 2   INE                      959252 non-null   object \n",
      " 3   NUMERO_IDENTITIFICATION  1141120 non-null  object \n",
      " 4   NOM                      1141120 non-null  object \n",
      " 5   PRENOM                   1141120 non-null  object \n",
      " 6   DATE_DE_NAISSANCE        1141120 non-null  object \n",
      " 7   LIEU_DE_NAISSANCE        1140879 non-null  object \n",
      " 8   MAIL_INSTITUTIONNEL      1056572 non-null  object \n",
      " 9   SEXE                     1141120 non-null  object \n",
      " 10  MENTION_BACC             1134817 non-null  object \n",
      " 11  ANNEE_BACC               1136174 non-null  float64\n",
      " 12  PAYS_DE_NAISSANCE        1141120 non-null  object \n",
      " 13  NATIONALITE              1141120 non-null  object \n",
      " 14  SERIE_BACC               1109114 non-null  object \n",
      " 15  REGION_DE_NAISSANCE      1072617 non-null  object \n",
      " 16  ETABLISSMENT_CODE        1141120 non-null  object \n",
      " 17  ETABLISSEMENT            1141120 non-null  object \n",
      " 18  NIVEAU_SECTION           1141120 non-null  object \n",
      " 19  SIGLE_NIVEAU_SECTION     1141120 non-null  object \n",
      " 20  COHORTE                  115408 non-null   object \n",
      " 21  ETAT_INSCRIPTION         1141120 non-null  object \n",
      " 22  ANNEE_INSCRIPTION        1141120 non-null  int64  \n",
      " 23  ANNEE_UNIVERSITAIRE      1141120 non-null  object \n",
      " 24  TYPE_FORMATION           1141120 non-null  object \n",
      " 25  CODE_NIVEAU              1141120 non-null  int64  \n",
      " 26  NIVEAU                   1141120 non-null  object \n",
      " 27  DATE_INSCRIPTION         1141120 non-null  object \n",
      " 28  NIVEAU LMD               948575 non-null   object \n",
      " 29  NIVEAU LMD ET NON LMD    1141120 non-null  object \n",
      " 30  SYSTEME                  1141120 non-null  object \n",
      " 31  DEPARTEMENT FORMATION    1141120 non-null  object \n",
      "dtypes: float64(2), int64(2), object(28)\n",
      "memory usage: 278.6+ MB\n"
     ]
    }
   ],
   "source": [
    "print(\"Informations général du DataFrame :\")\n",
    "print(\"--------------------------------------------------\")\n",
    "all_data.info()"
   ]
  },
  {
   "cell_type": "markdown",
   "metadata": {},
   "source": [
    "#### DataFrame avec seulement les variables les plus importants"
   ]
  },
  {
   "cell_type": "code",
   "execution_count": 10,
   "metadata": {
    "colab": {
     "base_uri": "https://localhost:8080/"
    },
    "executionInfo": {
     "elapsed": 16054,
     "status": "ok",
     "timestamp": 1747316769169,
     "user": {
      "displayName": "Abdouroihim Attoumane",
      "userId": "12691605171806898452"
     },
     "user_tz": 0
    },
    "id": "pxh_lgxqJYjM",
    "outputId": "779e67bd-a592-4c78-a4cf-68bcee6231e3"
   },
   "outputs": [
    {
     "name": "stdout",
     "output_type": "stream",
     "text": [
      "✅ Sélection des colonnes importantes dans df_inscrit.\n",
      "--------------------------------------------------\n",
      "Informations général du DataFrame :\n",
      "--------------------------------------------------\n",
      "<class 'pandas.core.frame.DataFrame'>\n",
      "RangeIndex: 1141120 entries, 0 to 1141119\n",
      "Data columns (total 14 columns):\n",
      " #   Column                 Non-Null Count    Dtype  \n",
      "---  ------                 --------------    -----  \n",
      " 0   NUMERO                 1141120 non-null  object \n",
      " 1   SEXE                   1141120 non-null  object \n",
      " 2   ANNEE_BACC             1136174 non-null  float64\n",
      " 3   NATIONALITE            1141120 non-null  object \n",
      " 4   SERIE_BACC             1109114 non-null  object \n",
      " 5   ETABLISSMENT_CODE      1141120 non-null  object \n",
      " 6   NIVEAU_SECTION         1141120 non-null  object \n",
      " 7   ANNEE_INSCRIPTION      1141120 non-null  int64  \n",
      " 8   ANNEE_UNIVERSITAIRE    1141120 non-null  object \n",
      " 9   TYPE_FORMATION         1141120 non-null  object \n",
      " 10  CODE_NIVEAU            1141120 non-null  int64  \n",
      " 11  NIVEAU LMD ET NON LMD  1141120 non-null  object \n",
      " 12  SYSTEME                1141120 non-null  object \n",
      " 13  DEPARTEMENT FORMATION  1141120 non-null  object \n",
      "dtypes: float64(1), int64(2), object(11)\n",
      "memory usage: 121.9+ MB\n"
     ]
    }
   ],
   "source": [
    "# Creation du data frame avec les colonnes importants\n",
    "\n",
    "list_col_to_drop = ['NUMERO_TABLE', 'INE', 'NUMERO_IDENTITIFICATION', 'NOM', 'PRENOM', 'DATE_DE_NAISSANCE', 'LIEU_DE_NAISSANCE',\n",
    "                    'MAIL_INSTITUTIONNEL', 'MENTION_BACC', 'PAYS_DE_NAISSANCE', 'REGION_DE_NAISSANCE', 'ETABLISSEMENT', 'SIGLE_NIVEAU_SECTION',\n",
    "                    'COHORTE', 'NIVEAU', 'DATE_INSCRIPTION', 'NIVEAU LMD', 'ETAT_INSCRIPTION']\n",
    "df_inscrit = all_data.drop(columns=list_col_to_drop)\n",
    "print(\"✅ Sélection des colonnes importantes dans df_inscrit.\")\n",
    "\n",
    "print(\"--------------------------------------------------\")\n",
    "print(\"Informations général du DataFrame :\")\n",
    "print(\"--------------------------------------------------\")\n",
    "df_inscrit.info()"
   ]
  },
  {
   "cell_type": "markdown",
   "metadata": {},
   "source": [
    "### Données des Résultats"
   ]
  },
  {
   "cell_type": "code",
   "execution_count": 11,
   "metadata": {
    "colab": {
     "base_uri": "https://localhost:8080/"
    },
    "executionInfo": {
     "elapsed": 4510,
     "status": "ok",
     "timestamp": 1747317328617,
     "user": {
      "displayName": "Abdouroihim Attoumane",
      "userId": "12691605171806898452"
     },
     "user_tz": 0
    },
    "id": "yPHm1LAULw9L",
    "outputId": "a1e2e0bf-44c7-4a95-9feb-c0e6cd64308f"
   },
   "outputs": [
    {
     "name": "stdout",
     "output_type": "stream",
     "text": [
      "Informations général du DataFrame :\n",
      "--------------------------------------------------\n",
      "<class 'pandas.core.frame.DataFrame'>\n",
      "RangeIndex: 753693 entries, 0 to 753692\n",
      "Data columns (total 27 columns):\n",
      " #   Column                      Non-Null Count   Dtype  \n",
      "---  ------                      --------------   -----  \n",
      " 0   NUMERO                      753693 non-null  object \n",
      " 1   NOM                         753693 non-null  object \n",
      " 2   PRENOM                      753693 non-null  object \n",
      " 3   SEXE                        753693 non-null  object \n",
      " 4   NATIONALITE                 753693 non-null  object \n",
      " 5   ANNEE UNIVERSITAIRE         753693 non-null  object \n",
      " 6   EMAILE INSTITUTIONEL        746075 non-null  object \n",
      " 7   EMAIL PERSONNEL             721119 non-null  object \n",
      " 8   PORTABLE                    746767 non-null  object \n",
      " 9   FORMATION                   753693 non-null  object \n",
      " 10  TYPE FORMATION              753562 non-null  object \n",
      " 11  DEPARTEMENT                 753562 non-null  object \n",
      " 12  ETABLISSEMENT               753562 non-null  object \n",
      " 13  ETABLISSEMENT INSCRIT       753562 non-null  object \n",
      " 14  TYPE ETABLISSEMENT          753562 non-null  object \n",
      " 15  GRADE                       753562 non-null  object \n",
      " 16  NIVEAU FORMATION PED        753562 non-null  object \n",
      " 17  NIVEAU EQUIVALENCE LMD PED  753562 non-null  object \n",
      " 18  NIVEAU LMD PED              753562 non-null  object \n",
      " 19  NIVEAU_LMD_ET_NON_LMD PED   753562 non-null  object \n",
      " 20  CREDIT                      720387 non-null  float64\n",
      " 21  NIVEAU                      748264 non-null  float64\n",
      " 22  SESSION                     753562 non-null  object \n",
      " 23  MENTION                     289309 non-null  object \n",
      " 24  MOYENNE ANNUELLE            709093 non-null  object \n",
      " 25  RESULTAT                    753562 non-null  object \n",
      " 26  RESULTAT APP EVALUATION     753562 non-null  float64\n",
      "dtypes: float64(3), object(24)\n",
      "memory usage: 155.3+ MB\n"
     ]
    }
   ],
   "source": [
    "print(\"Informations général du DataFrame :\")\n",
    "print(\"--------------------------------------------------\")\n",
    "df_resultat.info()"
   ]
  },
  {
   "cell_type": "markdown",
   "metadata": {},
   "source": [
    "#### DataFrame avec seulement les variables les plus importants\n",
    "\n",
    "#### Remarque :\n",
    "\n",
    "La plus part des colonnes sont déjà dans le DataFrame des Inscrits donc on les intégrés pas dans le DataFrame des résultats pour la fusion car ils seront en doublons "
   ]
  },
  {
   "cell_type": "code",
   "execution_count": 12,
   "metadata": {
    "id": "Zg_kpjNPPZor"
   },
   "outputs": [
    {
     "name": "stdout",
     "output_type": "stream",
     "text": [
      "✅ Sélection des colonnes importantes dans df_resultat.\n",
      "--------------------------------------------------\n",
      "Informations général du DataFrame :\n",
      "--------------------------------------------------\n",
      "<class 'pandas.core.frame.DataFrame'>\n",
      "RangeIndex: 753693 entries, 0 to 753692\n",
      "Data columns (total 3 columns):\n",
      " #   Column               Non-Null Count   Dtype \n",
      "---  ------               --------------   ----- \n",
      " 0   NUMERO               753693 non-null  object\n",
      " 1   ANNEE UNIVERSITAIRE  753693 non-null  object\n",
      " 2   RESULTAT             753562 non-null  object\n",
      "dtypes: object(3)\n",
      "memory usage: 17.3+ MB\n"
     ]
    }
   ],
   "source": [
    "df_resultat = df_resultat[['NUMERO', 'ANNEE UNIVERSITAIRE', 'RESULTAT']]\n",
    "print(\"✅ Sélection des colonnes importantes dans df_resultat.\")\n",
    "print(\"--------------------------------------------------\")\n",
    "\n",
    "print(\"Informations général du DataFrame :\")\n",
    "print(\"--------------------------------------------------\")\n",
    "df_resultat.info()"
   ]
  },
  {
   "cell_type": "markdown",
   "metadata": {},
   "source": [
    "#### Correction de la syntaxe pour l’homogénéité"
   ]
  },
  {
   "cell_type": "code",
   "execution_count": 13,
   "metadata": {
    "id": "cyWdjizBR29Y"
   },
   "outputs": [
    {
     "name": "stdout",
     "output_type": "stream",
     "text": [
      "✅ Renommage de la colonne ANNEE_UNIVERSITAIRE et suppression du point au début de NUMERO dans df_inscrit.\n"
     ]
    }
   ],
   "source": [
    "df_inscrit.rename(columns={'ANNEE_UNIVERSITAIRE': 'ANNEE UNIVERSITAIRE'}, inplace=True) # Renommer la colonne pour correspondre à df_resultat\n",
    "df_inscrit['NUMERO'] = df_inscrit['NUMERO'].str.replace(r'^\\.', '', regex=True) # Supprimer le point au début\n",
    "print(\"✅ Renommage de la colonne ANNEE_UNIVERSITAIRE et suppression du point au début de NUMERO dans df_inscrit.\")"
   ]
  },
  {
   "cell_type": "markdown",
   "metadata": {},
   "source": [
    "## Fusion des deux datas frame\n",
    "\n",
    "### Remarque :\n",
    "\n",
    "Comme les données couvrent plusieurs années, les variables ***NUMERO*** et ***ANNEE UNIVERSITAIRE*** constituent ensemble la clé primaire pour la fusion."
   ]
  },
  {
   "cell_type": "code",
   "execution_count": 14,
   "metadata": {
    "id": "a8qONy-7QeZB"
   },
   "outputs": [
    {
     "name": "stdout",
     "output_type": "stream",
     "text": [
      "✅ Fusion des DataFrames df_inscrit et df_resultat réussie.\n"
     ]
    }
   ],
   "source": [
    "df_final = pd.merge(df_inscrit, # \n",
    "                    df_resultat, # \n",
    "                    on=['NUMERO', 'ANNEE UNIVERSITAIRE'], # \n",
    "                    how='left' \n",
    "                    )\n",
    "print(\"✅ Fusion des DataFrames df_inscrit et df_resultat réussie.\")"
   ]
  },
  {
   "cell_type": "code",
   "execution_count": 15,
   "metadata": {
    "colab": {
     "base_uri": "https://localhost:8080/"
    },
    "executionInfo": {
     "elapsed": 26953,
     "status": "ok",
     "timestamp": 1747318690089,
     "user": {
      "displayName": "Abdouroihim Attoumane",
      "userId": "12691605171806898452"
     },
     "user_tz": 0
    },
    "id": "6tswZuHeRBph",
    "outputId": "6c42ae1e-157a-4dfd-8560-7d9a73305058"
   },
   "outputs": [
    {
     "name": "stdout",
     "output_type": "stream",
     "text": [
      "Informations général du DataFrame :\n",
      "--------------------------------------------------\n",
      "<class 'pandas.core.frame.DataFrame'>\n",
      "RangeIndex: 1215837 entries, 0 to 1215836\n",
      "Data columns (total 15 columns):\n",
      " #   Column                 Non-Null Count    Dtype  \n",
      "---  ------                 --------------    -----  \n",
      " 0   NUMERO                 1215837 non-null  object \n",
      " 1   SEXE                   1215837 non-null  object \n",
      " 2   ANNEE_BACC             1210891 non-null  float64\n",
      " 3   NATIONALITE            1215837 non-null  object \n",
      " 4   SERIE_BACC             1183525 non-null  object \n",
      " 5   ETABLISSMENT_CODE      1215837 non-null  object \n",
      " 6   NIVEAU_SECTION         1215837 non-null  object \n",
      " 7   ANNEE_INSCRIPTION      1215837 non-null  int64  \n",
      " 8   ANNEE UNIVERSITAIRE    1215837 non-null  object \n",
      " 9   TYPE_FORMATION         1215837 non-null  object \n",
      " 10  CODE_NIVEAU            1215837 non-null  int64  \n",
      " 11  NIVEAU LMD ET NON LMD  1215837 non-null  object \n",
      " 12  SYSTEME                1215837 non-null  object \n",
      " 13  DEPARTEMENT FORMATION  1215837 non-null  object \n",
      " 14  RESULTAT               750198 non-null   object \n",
      "dtypes: float64(1), int64(2), object(12)\n",
      "memory usage: 139.1+ MB\n"
     ]
    }
   ],
   "source": [
    "print(\"Informations général du DataFrame :\")\n",
    "print(\"--------------------------------------------------\")\n",
    "df_final.info()"
   ]
  },
  {
   "cell_type": "code",
   "execution_count": 16,
   "metadata": {
    "colab": {
     "base_uri": "https://localhost:8080/"
    },
    "executionInfo": {
     "elapsed": 1472,
     "status": "ok",
     "timestamp": 1747326094255,
     "user": {
      "displayName": "Abdouroihim Attoumane",
      "userId": "12691605171806898452"
     },
     "user_tz": 0
    },
    "id": "UsVqWX4xv6tn",
    "outputId": "99979f0b-5ff1-45e9-ea65-01b4cbf65556"
   },
   "outputs": [
    {
     "name": "stdout",
     "output_type": "stream",
     "text": [
      "les années universitaires disponibles :\n",
      "['2010-2011' '2011-2012' '2012-2013' '2013-2014' '2014-2015' '2015-2016'\n",
      " '2016-2017' '2017-2018' '2018-2019' '2019-2020' '2020-2021' '2021-2022'\n",
      " '2022-2023' '2023-2024']\n"
     ]
    }
   ],
   "source": [
    "print(\"les années universitaires disponibles :\")\n",
    "print(df_final['ANNEE UNIVERSITAIRE'].unique())"
   ]
  },
  {
   "cell_type": "markdown",
   "metadata": {},
   "source": [
    "### Télécharge de data finale pour notre étude"
   ]
  },
  {
   "cell_type": "code",
   "execution_count": null,
   "metadata": {
    "id": "dbN6lIkkUP_y"
   },
   "outputs": [],
   "source": [
    "# df_final.to_csv(\"df_inscrit_resultat.csv\", index=False)"
   ]
  }
 ],
 "metadata": {
  "colab": {
   "authorship_tag": "ABX9TyNaPE2aCM/OEzsae72yOjo4",
   "provenance": []
  },
  "kernelspec": {
   "display_name": "base",
   "language": "python",
   "name": "python3"
  },
  "language_info": {
   "codemirror_mode": {
    "name": "ipython",
    "version": 3
   },
   "file_extension": ".py",
   "mimetype": "text/x-python",
   "name": "python",
   "nbconvert_exporter": "python",
   "pygments_lexer": "ipython3",
   "version": "3.11.5"
  }
 },
 "nbformat": 4,
 "nbformat_minor": 0
}
